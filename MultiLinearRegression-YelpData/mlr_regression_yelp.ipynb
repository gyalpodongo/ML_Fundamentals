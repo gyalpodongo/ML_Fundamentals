{
 "cells": [
  {
   "cell_type": "markdown",
   "source": [
    "# Project: Yelp Rating Regression Predictor - MLR"
   ],
   "metadata": {}
  },
  {
   "cell_type": "code",
   "execution_count": 2,
   "source": [
    "import pandas as pd"
   ],
   "outputs": [],
   "metadata": {}
  },
  {
   "cell_type": "code",
   "execution_count": 5,
   "source": [
    "businesses = pd.read_json(\"yelp_business.json\" , lines=True)\r\n",
    "reviews = pd.read_json(\"yelp_review.json\" , lines=True)\r\n",
    "users = pd.read_json(\"yelp_user.json\", lines=True)\r\n",
    "checkins = pd.read_json(\"yelp_checkin.json\", lines=True)\r\n",
    "tips = pd.read_json(\"yelp_tip.json\", lines=True)\r\n",
    "photos = pd.read_json(\"yelp_photo.json\", lines=True)"
   ],
   "outputs": [],
   "metadata": {}
  }
 ],
 "metadata": {
  "orig_nbformat": 4,
  "language_info": {
   "name": "python",
   "version": "3.8.8",
   "mimetype": "text/x-python",
   "codemirror_mode": {
    "name": "ipython",
    "version": 3
   },
   "pygments_lexer": "ipython3",
   "nbconvert_exporter": "python",
   "file_extension": ".py"
  },
  "kernelspec": {
   "name": "python3",
   "display_name": "Python 3.8.8 64-bit ('base': conda)"
  },
  "interpreter": {
   "hash": "8119ebaffbe06ea49a55ad4fcf389d08c2dcf3c58728750ff2c5c67e7157a2ad"
  }
 },
 "nbformat": 4,
 "nbformat_minor": 2
}