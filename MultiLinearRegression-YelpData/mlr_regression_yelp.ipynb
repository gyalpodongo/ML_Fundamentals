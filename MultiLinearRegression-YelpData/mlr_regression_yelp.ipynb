{
 "cells": [
  {
   "cell_type": "markdown",
   "source": [
    "# Project: Yelp Rating Regression Predictor - MLR"
   ],
   "metadata": {}
  },
  {
   "cell_type": "code",
   "execution_count": 2,
   "source": [
    "import pandas as pd"
   ],
   "outputs": [],
   "metadata": {}
  },
  {
   "cell_type": "code",
   "execution_count": 5,
   "source": [
    "businesses = pd.read_json(\"yelp_business.json\" , lines=True)\r\n",
    "reviews = pd.read_json(\"yelp_review.json\" , lines=True)\r\n",
    "users = pd.read_json(\"yelp_user.json\", lines=True)\r\n",
    "checkins = pd.read_json(\"yelp_checkin.json\", lines=True)\r\n",
    "tips = pd.read_json(\"yelp_tip.json\", lines=True)\r\n",
    "photos = pd.read_json(\"yelp_photo.json\", lines=True)"
   ],
   "outputs": [],
   "metadata": {}
  },
  {
   "cell_type": "code",
   "execution_count": 6,
   "source": [
    "pd.options.display.max_columns = 60\r\n",
    "pd.options.display.max_colwidth = 500"
   ],
   "outputs": [],
   "metadata": {}
  },
  {
   "cell_type": "code",
   "execution_count": 7,
   "source": [
    "reviews.head()"
   ],
   "outputs": [
    {
     "output_type": "execute_result",
     "data": {
      "text/plain": [
       "              business_id  average_review_age  average_review_length  \\\n",
       "0  --1UhMGODdWsrMastO9DZw          524.458333             466.208333   \n",
       "1  --6MefnULPED_I942VcFNA         1199.589744             785.205128   \n",
       "2  --7zmmkVg-IMGaXbuVd0SQ          717.851852             536.592593   \n",
       "3  --8LPVSo5i0Oo61X01sV9A          751.750000             478.250000   \n",
       "4  --9QQLMTbFzLJ_oT-ON3Xw          978.727273             436.181818   \n",
       "\n",
       "   average_review_sentiment  number_funny_votes  number_cool_votes  \\\n",
       "0                  0.808638                   1                 16   \n",
       "1                  0.669126                  27                 32   \n",
       "2                  0.820837                  29                 52   \n",
       "3                  0.170925                   0                  0   \n",
       "4                  0.562264                   3                  4   \n",
       "\n",
       "   number_useful_votes  \n",
       "0                   15  \n",
       "1                   53  \n",
       "2                   81  \n",
       "3                    9  \n",
       "4                    7  "
      ],
      "text/html": [
       "<div>\n",
       "<style scoped>\n",
       "    .dataframe tbody tr th:only-of-type {\n",
       "        vertical-align: middle;\n",
       "    }\n",
       "\n",
       "    .dataframe tbody tr th {\n",
       "        vertical-align: top;\n",
       "    }\n",
       "\n",
       "    .dataframe thead th {\n",
       "        text-align: right;\n",
       "    }\n",
       "</style>\n",
       "<table border=\"1\" class=\"dataframe\">\n",
       "  <thead>\n",
       "    <tr style=\"text-align: right;\">\n",
       "      <th></th>\n",
       "      <th>business_id</th>\n",
       "      <th>average_review_age</th>\n",
       "      <th>average_review_length</th>\n",
       "      <th>average_review_sentiment</th>\n",
       "      <th>number_funny_votes</th>\n",
       "      <th>number_cool_votes</th>\n",
       "      <th>number_useful_votes</th>\n",
       "    </tr>\n",
       "  </thead>\n",
       "  <tbody>\n",
       "    <tr>\n",
       "      <th>0</th>\n",
       "      <td>--1UhMGODdWsrMastO9DZw</td>\n",
       "      <td>524.458333</td>\n",
       "      <td>466.208333</td>\n",
       "      <td>0.808638</td>\n",
       "      <td>1</td>\n",
       "      <td>16</td>\n",
       "      <td>15</td>\n",
       "    </tr>\n",
       "    <tr>\n",
       "      <th>1</th>\n",
       "      <td>--6MefnULPED_I942VcFNA</td>\n",
       "      <td>1199.589744</td>\n",
       "      <td>785.205128</td>\n",
       "      <td>0.669126</td>\n",
       "      <td>27</td>\n",
       "      <td>32</td>\n",
       "      <td>53</td>\n",
       "    </tr>\n",
       "    <tr>\n",
       "      <th>2</th>\n",
       "      <td>--7zmmkVg-IMGaXbuVd0SQ</td>\n",
       "      <td>717.851852</td>\n",
       "      <td>536.592593</td>\n",
       "      <td>0.820837</td>\n",
       "      <td>29</td>\n",
       "      <td>52</td>\n",
       "      <td>81</td>\n",
       "    </tr>\n",
       "    <tr>\n",
       "      <th>3</th>\n",
       "      <td>--8LPVSo5i0Oo61X01sV9A</td>\n",
       "      <td>751.750000</td>\n",
       "      <td>478.250000</td>\n",
       "      <td>0.170925</td>\n",
       "      <td>0</td>\n",
       "      <td>0</td>\n",
       "      <td>9</td>\n",
       "    </tr>\n",
       "    <tr>\n",
       "      <th>4</th>\n",
       "      <td>--9QQLMTbFzLJ_oT-ON3Xw</td>\n",
       "      <td>978.727273</td>\n",
       "      <td>436.181818</td>\n",
       "      <td>0.562264</td>\n",
       "      <td>3</td>\n",
       "      <td>4</td>\n",
       "      <td>7</td>\n",
       "    </tr>\n",
       "  </tbody>\n",
       "</table>\n",
       "</div>"
      ]
     },
     "metadata": {},
     "execution_count": 7
    }
   ],
   "metadata": {}
  },
  {
   "cell_type": "code",
   "execution_count": 8,
   "source": [
    "users.head()"
   ],
   "outputs": [
    {
     "output_type": "execute_result",
     "data": {
      "text/plain": [
       "              business_id  average_number_friends  average_days_on_yelp  \\\n",
       "0  --1UhMGODdWsrMastO9DZw               18.791667           1789.750000   \n",
       "1  --6MefnULPED_I942VcFNA              214.564103           2039.948718   \n",
       "2  --7zmmkVg-IMGaXbuVd0SQ              126.185185           1992.796296   \n",
       "3  --8LPVSo5i0Oo61X01sV9A               25.250000           2095.750000   \n",
       "4  --9QQLMTbFzLJ_oT-ON3Xw               52.454545           1804.636364   \n",
       "\n",
       "   average_number_fans  average_review_count  average_number_years_elite  \n",
       "0             1.833333             57.541667                    0.833333  \n",
       "1            49.256410            332.743590                    1.769231  \n",
       "2            19.222222            208.962963                    1.814815  \n",
       "3             0.500000              7.500000                    0.000000  \n",
       "4             1.000000             34.636364                    0.090909  "
      ],
      "text/html": [
       "<div>\n",
       "<style scoped>\n",
       "    .dataframe tbody tr th:only-of-type {\n",
       "        vertical-align: middle;\n",
       "    }\n",
       "\n",
       "    .dataframe tbody tr th {\n",
       "        vertical-align: top;\n",
       "    }\n",
       "\n",
       "    .dataframe thead th {\n",
       "        text-align: right;\n",
       "    }\n",
       "</style>\n",
       "<table border=\"1\" class=\"dataframe\">\n",
       "  <thead>\n",
       "    <tr style=\"text-align: right;\">\n",
       "      <th></th>\n",
       "      <th>business_id</th>\n",
       "      <th>average_number_friends</th>\n",
       "      <th>average_days_on_yelp</th>\n",
       "      <th>average_number_fans</th>\n",
       "      <th>average_review_count</th>\n",
       "      <th>average_number_years_elite</th>\n",
       "    </tr>\n",
       "  </thead>\n",
       "  <tbody>\n",
       "    <tr>\n",
       "      <th>0</th>\n",
       "      <td>--1UhMGODdWsrMastO9DZw</td>\n",
       "      <td>18.791667</td>\n",
       "      <td>1789.750000</td>\n",
       "      <td>1.833333</td>\n",
       "      <td>57.541667</td>\n",
       "      <td>0.833333</td>\n",
       "    </tr>\n",
       "    <tr>\n",
       "      <th>1</th>\n",
       "      <td>--6MefnULPED_I942VcFNA</td>\n",
       "      <td>214.564103</td>\n",
       "      <td>2039.948718</td>\n",
       "      <td>49.256410</td>\n",
       "      <td>332.743590</td>\n",
       "      <td>1.769231</td>\n",
       "    </tr>\n",
       "    <tr>\n",
       "      <th>2</th>\n",
       "      <td>--7zmmkVg-IMGaXbuVd0SQ</td>\n",
       "      <td>126.185185</td>\n",
       "      <td>1992.796296</td>\n",
       "      <td>19.222222</td>\n",
       "      <td>208.962963</td>\n",
       "      <td>1.814815</td>\n",
       "    </tr>\n",
       "    <tr>\n",
       "      <th>3</th>\n",
       "      <td>--8LPVSo5i0Oo61X01sV9A</td>\n",
       "      <td>25.250000</td>\n",
       "      <td>2095.750000</td>\n",
       "      <td>0.500000</td>\n",
       "      <td>7.500000</td>\n",
       "      <td>0.000000</td>\n",
       "    </tr>\n",
       "    <tr>\n",
       "      <th>4</th>\n",
       "      <td>--9QQLMTbFzLJ_oT-ON3Xw</td>\n",
       "      <td>52.454545</td>\n",
       "      <td>1804.636364</td>\n",
       "      <td>1.000000</td>\n",
       "      <td>34.636364</td>\n",
       "      <td>0.090909</td>\n",
       "    </tr>\n",
       "  </tbody>\n",
       "</table>\n",
       "</div>"
      ]
     },
     "metadata": {},
     "execution_count": 8
    }
   ],
   "metadata": {}
  },
  {
   "cell_type": "code",
   "execution_count": 9,
   "source": [
    "checkins.head()"
   ],
   "outputs": [
    {
     "output_type": "execute_result",
     "data": {
      "text/plain": [
       "              business_id  \\\n",
       "0  7KPBkxAOEtb3QeIL9PEErg   \n",
       "1  kREVIrSBbtqBhIYkTccQUg   \n",
       "2  tJRDll5yqpZwehenzE2cSg   \n",
       "3  tZccfdl6JNw-j5BKnCTIQQ   \n",
       "4  r1p7RAMzCV_6NPF0dNoR3g   \n",
       "\n",
       "                                                                                                                                                                                                                                                                                                                                                                                                                                                                                                                  time  \\\n",
       "0  {'Fri-0': 2, 'Sat-0': 1, 'Sun-0': 1, 'Wed-0': 2, 'Fri-1': 1, 'Sat-1': 3, 'Thu-1': 1, 'Wed-1': 1, 'Sat-2': 1, 'Sun-2': 2, 'Thu-2': 1, 'Wed-2': 1, 'Fri-3': 1, 'Sun-3': 3, 'Mon-4': 1, 'Thu-4': 1, 'Tue-4': 2, 'Wed-4': 2, 'Sun-6': 1, 'Wed-6': 1, 'Thu-7': 1, 'Fri-10': 3, 'Mon-10': 1, 'Sat-10': 3, 'Sun-10': 3, 'Tue-10': 2, 'Mon-11': 1, 'Thu-11': 1, 'Wed-11': 2, 'Mon-12': 1, 'Sat-12': 1, 'Tue-12': 1, 'Sat-13': 3, 'Thu-13': 1, 'Tue-13': 2, 'Wed-13': 3, 'Fri-14': 2, 'Mon-14': 1, 'Sat-14': 1, 'Sun-14':...   \n",
       "1                                                                                                                                                                                                                                                                                                                                                                                                                          {'Mon-13': 1, 'Thu-13': 1, 'Sat-16': 1, 'Wed-17': 1, 'Sun-19': 1, 'Thu-20': 1, 'Sat-21': 1}   \n",
       "2                                                                                                                                                                                                                                                                                                                                                                                                                                         {'Thu-0': 1, 'Mon-1': 1, 'Mon-12': 1, 'Sat-16': 1, 'Sun-22': 1, 'Fri-23': 1}   \n",
       "3                                                                                                                                                                                                                                                                                                                                                                                                                                                                              {'Sun-14': 1, 'Fri-18': 1, 'Mon-20': 1}   \n",
       "4                                                                                                                                                                                                                                                                                                                                                                                                                                                     {'Sat-3': 1, 'Sun-18': 1, 'Sat-21': 1, 'Sat-23': 1, 'Thu-23': 1}   \n",
       "\n",
       "   weekday_checkins  weekend_checkins  \n",
       "0                76                75  \n",
       "1                 4                 3  \n",
       "2                 3                 3  \n",
       "3                 1                 2  \n",
       "4                 1                 4  "
      ],
      "text/html": [
       "<div>\n",
       "<style scoped>\n",
       "    .dataframe tbody tr th:only-of-type {\n",
       "        vertical-align: middle;\n",
       "    }\n",
       "\n",
       "    .dataframe tbody tr th {\n",
       "        vertical-align: top;\n",
       "    }\n",
       "\n",
       "    .dataframe thead th {\n",
       "        text-align: right;\n",
       "    }\n",
       "</style>\n",
       "<table border=\"1\" class=\"dataframe\">\n",
       "  <thead>\n",
       "    <tr style=\"text-align: right;\">\n",
       "      <th></th>\n",
       "      <th>business_id</th>\n",
       "      <th>time</th>\n",
       "      <th>weekday_checkins</th>\n",
       "      <th>weekend_checkins</th>\n",
       "    </tr>\n",
       "  </thead>\n",
       "  <tbody>\n",
       "    <tr>\n",
       "      <th>0</th>\n",
       "      <td>7KPBkxAOEtb3QeIL9PEErg</td>\n",
       "      <td>{'Fri-0': 2, 'Sat-0': 1, 'Sun-0': 1, 'Wed-0': 2, 'Fri-1': 1, 'Sat-1': 3, 'Thu-1': 1, 'Wed-1': 1, 'Sat-2': 1, 'Sun-2': 2, 'Thu-2': 1, 'Wed-2': 1, 'Fri-3': 1, 'Sun-3': 3, 'Mon-4': 1, 'Thu-4': 1, 'Tue-4': 2, 'Wed-4': 2, 'Sun-6': 1, 'Wed-6': 1, 'Thu-7': 1, 'Fri-10': 3, 'Mon-10': 1, 'Sat-10': 3, 'Sun-10': 3, 'Tue-10': 2, 'Mon-11': 1, 'Thu-11': 1, 'Wed-11': 2, 'Mon-12': 1, 'Sat-12': 1, 'Tue-12': 1, 'Sat-13': 3, 'Thu-13': 1, 'Tue-13': 2, 'Wed-13': 3, 'Fri-14': 2, 'Mon-14': 1, 'Sat-14': 1, 'Sun-14':...</td>\n",
       "      <td>76</td>\n",
       "      <td>75</td>\n",
       "    </tr>\n",
       "    <tr>\n",
       "      <th>1</th>\n",
       "      <td>kREVIrSBbtqBhIYkTccQUg</td>\n",
       "      <td>{'Mon-13': 1, 'Thu-13': 1, 'Sat-16': 1, 'Wed-17': 1, 'Sun-19': 1, 'Thu-20': 1, 'Sat-21': 1}</td>\n",
       "      <td>4</td>\n",
       "      <td>3</td>\n",
       "    </tr>\n",
       "    <tr>\n",
       "      <th>2</th>\n",
       "      <td>tJRDll5yqpZwehenzE2cSg</td>\n",
       "      <td>{'Thu-0': 1, 'Mon-1': 1, 'Mon-12': 1, 'Sat-16': 1, 'Sun-22': 1, 'Fri-23': 1}</td>\n",
       "      <td>3</td>\n",
       "      <td>3</td>\n",
       "    </tr>\n",
       "    <tr>\n",
       "      <th>3</th>\n",
       "      <td>tZccfdl6JNw-j5BKnCTIQQ</td>\n",
       "      <td>{'Sun-14': 1, 'Fri-18': 1, 'Mon-20': 1}</td>\n",
       "      <td>1</td>\n",
       "      <td>2</td>\n",
       "    </tr>\n",
       "    <tr>\n",
       "      <th>4</th>\n",
       "      <td>r1p7RAMzCV_6NPF0dNoR3g</td>\n",
       "      <td>{'Sat-3': 1, 'Sun-18': 1, 'Sat-21': 1, 'Sat-23': 1, 'Thu-23': 1}</td>\n",
       "      <td>1</td>\n",
       "      <td>4</td>\n",
       "    </tr>\n",
       "  </tbody>\n",
       "</table>\n",
       "</div>"
      ]
     },
     "metadata": {},
     "execution_count": 9
    }
   ],
   "metadata": {}
  },
  {
   "cell_type": "code",
   "execution_count": 10,
   "source": [
    "tips.head()"
   ],
   "outputs": [
    {
     "output_type": "execute_result",
     "data": {
      "text/plain": [
       "              business_id  average_tip_length  number_tips\n",
       "0  --1UhMGODdWsrMastO9DZw           79.000000            1\n",
       "1  --6MefnULPED_I942VcFNA           49.857143           14\n",
       "2  --7zmmkVg-IMGaXbuVd0SQ           52.500000           10\n",
       "3  --9QQLMTbFzLJ_oT-ON3Xw          136.500000            2\n",
       "4  --9e1ONYQuAa-CB_Rrw7Tw           68.064935          154"
      ],
      "text/html": [
       "<div>\n",
       "<style scoped>\n",
       "    .dataframe tbody tr th:only-of-type {\n",
       "        vertical-align: middle;\n",
       "    }\n",
       "\n",
       "    .dataframe tbody tr th {\n",
       "        vertical-align: top;\n",
       "    }\n",
       "\n",
       "    .dataframe thead th {\n",
       "        text-align: right;\n",
       "    }\n",
       "</style>\n",
       "<table border=\"1\" class=\"dataframe\">\n",
       "  <thead>\n",
       "    <tr style=\"text-align: right;\">\n",
       "      <th></th>\n",
       "      <th>business_id</th>\n",
       "      <th>average_tip_length</th>\n",
       "      <th>number_tips</th>\n",
       "    </tr>\n",
       "  </thead>\n",
       "  <tbody>\n",
       "    <tr>\n",
       "      <th>0</th>\n",
       "      <td>--1UhMGODdWsrMastO9DZw</td>\n",
       "      <td>79.000000</td>\n",
       "      <td>1</td>\n",
       "    </tr>\n",
       "    <tr>\n",
       "      <th>1</th>\n",
       "      <td>--6MefnULPED_I942VcFNA</td>\n",
       "      <td>49.857143</td>\n",
       "      <td>14</td>\n",
       "    </tr>\n",
       "    <tr>\n",
       "      <th>2</th>\n",
       "      <td>--7zmmkVg-IMGaXbuVd0SQ</td>\n",
       "      <td>52.500000</td>\n",
       "      <td>10</td>\n",
       "    </tr>\n",
       "    <tr>\n",
       "      <th>3</th>\n",
       "      <td>--9QQLMTbFzLJ_oT-ON3Xw</td>\n",
       "      <td>136.500000</td>\n",
       "      <td>2</td>\n",
       "    </tr>\n",
       "    <tr>\n",
       "      <th>4</th>\n",
       "      <td>--9e1ONYQuAa-CB_Rrw7Tw</td>\n",
       "      <td>68.064935</td>\n",
       "      <td>154</td>\n",
       "    </tr>\n",
       "  </tbody>\n",
       "</table>\n",
       "</div>"
      ]
     },
     "metadata": {},
     "execution_count": 10
    }
   ],
   "metadata": {}
  },
  {
   "cell_type": "code",
   "execution_count": 11,
   "source": [
    "photos.head()"
   ],
   "outputs": [
    {
     "output_type": "execute_result",
     "data": {
      "text/plain": [
       "              business_id  average_caption_length  number_pics\n",
       "0  --1UhMGODdWsrMastO9DZw                0.000000            1\n",
       "1  --6MefnULPED_I942VcFNA               67.500000            2\n",
       "2  --9e1ONYQuAa-CB_Rrw7Tw               30.426471          136\n",
       "3  --DaPTJW3-tB1vP-PfdTEg                0.000000            1\n",
       "4  --FBCX-N37CMYDfs790Bnw                5.500000            4"
      ],
      "text/html": [
       "<div>\n",
       "<style scoped>\n",
       "    .dataframe tbody tr th:only-of-type {\n",
       "        vertical-align: middle;\n",
       "    }\n",
       "\n",
       "    .dataframe tbody tr th {\n",
       "        vertical-align: top;\n",
       "    }\n",
       "\n",
       "    .dataframe thead th {\n",
       "        text-align: right;\n",
       "    }\n",
       "</style>\n",
       "<table border=\"1\" class=\"dataframe\">\n",
       "  <thead>\n",
       "    <tr style=\"text-align: right;\">\n",
       "      <th></th>\n",
       "      <th>business_id</th>\n",
       "      <th>average_caption_length</th>\n",
       "      <th>number_pics</th>\n",
       "    </tr>\n",
       "  </thead>\n",
       "  <tbody>\n",
       "    <tr>\n",
       "      <th>0</th>\n",
       "      <td>--1UhMGODdWsrMastO9DZw</td>\n",
       "      <td>0.000000</td>\n",
       "      <td>1</td>\n",
       "    </tr>\n",
       "    <tr>\n",
       "      <th>1</th>\n",
       "      <td>--6MefnULPED_I942VcFNA</td>\n",
       "      <td>67.500000</td>\n",
       "      <td>2</td>\n",
       "    </tr>\n",
       "    <tr>\n",
       "      <th>2</th>\n",
       "      <td>--9e1ONYQuAa-CB_Rrw7Tw</td>\n",
       "      <td>30.426471</td>\n",
       "      <td>136</td>\n",
       "    </tr>\n",
       "    <tr>\n",
       "      <th>3</th>\n",
       "      <td>--DaPTJW3-tB1vP-PfdTEg</td>\n",
       "      <td>0.000000</td>\n",
       "      <td>1</td>\n",
       "    </tr>\n",
       "    <tr>\n",
       "      <th>4</th>\n",
       "      <td>--FBCX-N37CMYDfs790Bnw</td>\n",
       "      <td>5.500000</td>\n",
       "      <td>4</td>\n",
       "    </tr>\n",
       "  </tbody>\n",
       "</table>\n",
       "</div>"
      ]
     },
     "metadata": {},
     "execution_count": 11
    }
   ],
   "metadata": {}
  },
  {
   "cell_type": "code",
   "execution_count": 12,
   "source": [
    "print(len(businesses))\r\n",
    "print(reviews.columns)"
   ],
   "outputs": [
    {
     "output_type": "stream",
     "name": "stdout",
     "text": [
      "188593\n",
      "Index(['business_id', 'average_review_age', 'average_review_length',\n",
      "       'average_review_sentiment', 'number_funny_votes', 'number_cool_votes',\n",
      "       'number_useful_votes'],\n",
      "      dtype='object')\n"
     ]
    }
   ],
   "metadata": {}
  },
  {
   "cell_type": "code",
   "execution_count": 13,
   "source": [
    "users.describe()"
   ],
   "outputs": [
    {
     "output_type": "execute_result",
     "data": {
      "text/plain": [
       "       average_number_friends  average_days_on_yelp  average_number_fans  \\\n",
       "count           188593.000000         188593.000000        188593.000000   \n",
       "mean               105.132000           2005.367009            11.590148   \n",
       "std                162.653680            554.174540            25.901801   \n",
       "min                  1.000000             76.000000             0.000000   \n",
       "25%                 26.666667           1647.000000             0.666667   \n",
       "50%                 59.384615           1957.150000             3.583333   \n",
       "75%                117.666667           2312.238095            11.555556   \n",
       "max               4219.000000           4860.000000          1174.666667   \n",
       "\n",
       "       average_review_count  average_number_years_elite  \n",
       "count         188593.000000               188593.000000  \n",
       "mean             122.110660                    0.923313  \n",
       "std              208.814471                    1.109289  \n",
       "min                0.666667                    0.000000  \n",
       "25%               21.000000                    0.000000  \n",
       "50%               62.142857                    0.583333  \n",
       "75%              143.454545                    1.400000  \n",
       "max             6335.000000                   10.666667  "
      ],
      "text/html": [
       "<div>\n",
       "<style scoped>\n",
       "    .dataframe tbody tr th:only-of-type {\n",
       "        vertical-align: middle;\n",
       "    }\n",
       "\n",
       "    .dataframe tbody tr th {\n",
       "        vertical-align: top;\n",
       "    }\n",
       "\n",
       "    .dataframe thead th {\n",
       "        text-align: right;\n",
       "    }\n",
       "</style>\n",
       "<table border=\"1\" class=\"dataframe\">\n",
       "  <thead>\n",
       "    <tr style=\"text-align: right;\">\n",
       "      <th></th>\n",
       "      <th>average_number_friends</th>\n",
       "      <th>average_days_on_yelp</th>\n",
       "      <th>average_number_fans</th>\n",
       "      <th>average_review_count</th>\n",
       "      <th>average_number_years_elite</th>\n",
       "    </tr>\n",
       "  </thead>\n",
       "  <tbody>\n",
       "    <tr>\n",
       "      <th>count</th>\n",
       "      <td>188593.000000</td>\n",
       "      <td>188593.000000</td>\n",
       "      <td>188593.000000</td>\n",
       "      <td>188593.000000</td>\n",
       "      <td>188593.000000</td>\n",
       "    </tr>\n",
       "    <tr>\n",
       "      <th>mean</th>\n",
       "      <td>105.132000</td>\n",
       "      <td>2005.367009</td>\n",
       "      <td>11.590148</td>\n",
       "      <td>122.110660</td>\n",
       "      <td>0.923313</td>\n",
       "    </tr>\n",
       "    <tr>\n",
       "      <th>std</th>\n",
       "      <td>162.653680</td>\n",
       "      <td>554.174540</td>\n",
       "      <td>25.901801</td>\n",
       "      <td>208.814471</td>\n",
       "      <td>1.109289</td>\n",
       "    </tr>\n",
       "    <tr>\n",
       "      <th>min</th>\n",
       "      <td>1.000000</td>\n",
       "      <td>76.000000</td>\n",
       "      <td>0.000000</td>\n",
       "      <td>0.666667</td>\n",
       "      <td>0.000000</td>\n",
       "    </tr>\n",
       "    <tr>\n",
       "      <th>25%</th>\n",
       "      <td>26.666667</td>\n",
       "      <td>1647.000000</td>\n",
       "      <td>0.666667</td>\n",
       "      <td>21.000000</td>\n",
       "      <td>0.000000</td>\n",
       "    </tr>\n",
       "    <tr>\n",
       "      <th>50%</th>\n",
       "      <td>59.384615</td>\n",
       "      <td>1957.150000</td>\n",
       "      <td>3.583333</td>\n",
       "      <td>62.142857</td>\n",
       "      <td>0.583333</td>\n",
       "    </tr>\n",
       "    <tr>\n",
       "      <th>75%</th>\n",
       "      <td>117.666667</td>\n",
       "      <td>2312.238095</td>\n",
       "      <td>11.555556</td>\n",
       "      <td>143.454545</td>\n",
       "      <td>1.400000</td>\n",
       "    </tr>\n",
       "    <tr>\n",
       "      <th>max</th>\n",
       "      <td>4219.000000</td>\n",
       "      <td>4860.000000</td>\n",
       "      <td>1174.666667</td>\n",
       "      <td>6335.000000</td>\n",
       "      <td>10.666667</td>\n",
       "    </tr>\n",
       "  </tbody>\n",
       "</table>\n",
       "</div>"
      ]
     },
     "metadata": {},
     "execution_count": 13
    }
   ],
   "metadata": {}
  },
  {
   "cell_type": "code",
   "execution_count": 14,
   "source": [
    "businesses[businesses['business_id'] == '5EvUIR4IzCWUOm0PsUZXjA']['stars']"
   ],
   "outputs": [
    {
     "output_type": "execute_result",
     "data": {
      "text/plain": [
       "30781    3.0\n",
       "Name: stars, dtype: float64"
      ]
     },
     "metadata": {},
     "execution_count": 14
    }
   ],
   "metadata": {}
  },
  {
   "cell_type": "code",
   "execution_count": 15,
   "source": [
    "df = pd.merge(businesses, reviews, how='left', on='business_id')\r\n",
    "print(len(df))"
   ],
   "outputs": [
    {
     "output_type": "stream",
     "name": "stdout",
     "text": [
      "188593\n"
     ]
    }
   ],
   "metadata": {}
  },
  {
   "cell_type": "code",
   "execution_count": 16,
   "source": [
    "df = pd.merge(df,users, how='left', on='business_id')"
   ],
   "outputs": [],
   "metadata": {}
  },
  {
   "cell_type": "code",
   "execution_count": 17,
   "source": [
    "df = pd.merge(df, checkins, how='left', on='business_id')"
   ],
   "outputs": [],
   "metadata": {}
  },
  {
   "cell_type": "code",
   "execution_count": 18,
   "source": [
    "df = pd.merge(df, tips, how='left', on='business_id')"
   ],
   "outputs": [],
   "metadata": {}
  },
  {
   "cell_type": "code",
   "execution_count": 19,
   "source": [
    "df = pd.merge(df, photos, how='left', on='business_id')"
   ],
   "outputs": [],
   "metadata": {}
  },
  {
   "cell_type": "code",
   "execution_count": 20,
   "source": [
    "print(df.columns)"
   ],
   "outputs": [
    {
     "output_type": "stream",
     "name": "stdout",
     "text": [
      "Index(['address', 'alcohol?', 'attributes', 'business_id', 'categories',\n",
      "       'city', 'good_for_kids', 'has_bike_parking', 'has_wifi', 'hours',\n",
      "       'is_open', 'latitude', 'longitude', 'name', 'neighborhood',\n",
      "       'postal_code', 'price_range', 'review_count', 'stars', 'state',\n",
      "       'take_reservations', 'takes_credit_cards', 'average_review_age',\n",
      "       'average_review_length', 'average_review_sentiment',\n",
      "       'number_funny_votes', 'number_cool_votes', 'number_useful_votes',\n",
      "       'average_number_friends', 'average_days_on_yelp', 'average_number_fans',\n",
      "       'average_review_count', 'average_number_years_elite', 'time',\n",
      "       'weekday_checkins', 'weekend_checkins', 'average_tip_length',\n",
      "       'number_tips', 'average_caption_length', 'number_pics'],\n",
      "      dtype='object')\n"
     ]
    }
   ],
   "metadata": {}
  },
  {
   "cell_type": "code",
   "execution_count": 21,
   "source": [
    "features_to_remove = ['address','attributes','business_id','categories','city','hours','is_open','latitude','longitude','name','neighborhood','postal_code','state','time']\r\n"
   ],
   "outputs": [],
   "metadata": {}
  },
  {
   "cell_type": "code",
   "execution_count": 22,
   "source": [
    "print(df.isna().any())"
   ],
   "outputs": [
    {
     "output_type": "stream",
     "name": "stdout",
     "text": [
      "address                       False\n",
      "alcohol?                      False\n",
      "attributes                     True\n",
      "business_id                   False\n",
      "categories                     True\n",
      "city                          False\n",
      "good_for_kids                 False\n",
      "has_bike_parking              False\n",
      "has_wifi                      False\n",
      "hours                          True\n",
      "is_open                       False\n",
      "latitude                       True\n",
      "longitude                      True\n",
      "name                          False\n",
      "neighborhood                  False\n",
      "postal_code                   False\n",
      "price_range                   False\n",
      "review_count                  False\n",
      "stars                         False\n",
      "state                         False\n",
      "take_reservations             False\n",
      "takes_credit_cards            False\n",
      "average_review_age            False\n",
      "average_review_length         False\n",
      "average_review_sentiment      False\n",
      "number_funny_votes            False\n",
      "number_cool_votes             False\n",
      "number_useful_votes           False\n",
      "average_number_friends        False\n",
      "average_days_on_yelp          False\n",
      "average_number_fans           False\n",
      "average_review_count          False\n",
      "average_number_years_elite    False\n",
      "time                           True\n",
      "weekday_checkins               True\n",
      "weekend_checkins               True\n",
      "average_tip_length             True\n",
      "number_tips                    True\n",
      "average_caption_length         True\n",
      "number_pics                    True\n",
      "dtype: bool\n"
     ]
    }
   ],
   "metadata": {}
  },
  {
   "cell_type": "code",
   "execution_count": 23,
   "source": [
    "df.fillna({\r\n",
    "    'attributes':0,\r\n",
    "    'categories':0,\r\n",
    "    'hours':0,\r\n",
    "    'latitude':0,\r\n",
    "    'longitude':0,\r\n",
    "    'time':0,\r\n",
    "    'weekday_checkins':0,\r\n",
    "    'weekend_checkins':0,\r\n",
    "    'average_tip_length':0,\r\n",
    "    'number_tips':0,\r\n",
    "    'average_caption_length':0,\r\n",
    "    'number_pics':0,\r\n",
    "},\r\n",
    "    inplace=True)"
   ],
   "outputs": [],
   "metadata": {}
  },
  {
   "cell_type": "code",
   "execution_count": 24,
   "source": [
    "print(df.isna().any())"
   ],
   "outputs": [
    {
     "output_type": "stream",
     "name": "stdout",
     "text": [
      "address                       False\n",
      "alcohol?                      False\n",
      "attributes                    False\n",
      "business_id                   False\n",
      "categories                    False\n",
      "city                          False\n",
      "good_for_kids                 False\n",
      "has_bike_parking              False\n",
      "has_wifi                      False\n",
      "hours                         False\n",
      "is_open                       False\n",
      "latitude                      False\n",
      "longitude                     False\n",
      "name                          False\n",
      "neighborhood                  False\n",
      "postal_code                   False\n",
      "price_range                   False\n",
      "review_count                  False\n",
      "stars                         False\n",
      "state                         False\n",
      "take_reservations             False\n",
      "takes_credit_cards            False\n",
      "average_review_age            False\n",
      "average_review_length         False\n",
      "average_review_sentiment      False\n",
      "number_funny_votes            False\n",
      "number_cool_votes             False\n",
      "number_useful_votes           False\n",
      "average_number_friends        False\n",
      "average_days_on_yelp          False\n",
      "average_number_fans           False\n",
      "average_review_count          False\n",
      "average_number_years_elite    False\n",
      "time                          False\n",
      "weekday_checkins              False\n",
      "weekend_checkins              False\n",
      "average_tip_length            False\n",
      "number_tips                   False\n",
      "average_caption_length        False\n",
      "number_pics                   False\n",
      "dtype: bool\n"
     ]
    }
   ],
   "metadata": {}
  }
 ],
 "metadata": {
  "orig_nbformat": 4,
  "language_info": {
   "name": "python",
   "version": "3.8.8",
   "mimetype": "text/x-python",
   "codemirror_mode": {
    "name": "ipython",
    "version": 3
   },
   "pygments_lexer": "ipython3",
   "nbconvert_exporter": "python",
   "file_extension": ".py"
  },
  "kernelspec": {
   "name": "python3",
   "display_name": "Python 3.8.8 64-bit ('base': conda)"
  },
  "interpreter": {
   "hash": "8119ebaffbe06ea49a55ad4fcf389d08c2dcf3c58728750ff2c5c67e7157a2ad"
  }
 },
 "nbformat": 4,
 "nbformat_minor": 2
}